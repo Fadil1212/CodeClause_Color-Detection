{
 "cells": [
  {
   "attachments": {},
   "cell_type": "markdown",
   "id": "810f8309",
   "metadata": {},
   "source": [
    "#                          Color Detection"
   ]
  },
  {
   "cell_type": "code",
   "execution_count": 1,
   "id": "0304803e",
   "metadata": {},
   "outputs": [],
   "source": [
    "import cv2\n",
    "import pandas as pd"
   ]
  },
  {
   "cell_type": "code",
   "execution_count": 2,
   "id": "27270712",
   "metadata": {},
   "outputs": [],
   "source": [
   img_path =(r'C:\Users\KIIT\pycourse\code clause\CodeClause_Color-Detection\colorpic.jpg')
  # img = cv2.imread(img_path)
  image = Image.open(img_path)
  img = np.array(image)
   ]
  },
  {
   "cell_type": "code",
   "execution_count": 3,
   "id": "3797c725",
   "metadata": {},
   "outputs": [],
   "source": [
    "# declaring global variables (are used later on)\n",
    "clicked = False\n",
    "r = g = b = x_pos = y_pos = 0"
   ]
  },
  {
   "cell_type": "code",
   "execution_count": 4,
   "id": "a7afbb23",
   "metadata": {},
   "outputs": [],
   "source": [
    "# Reading csv file with pandas and giving names to each column\n",
    "index = [\"color\", \"color_name\", \"hex\", \"R\", \"G\", \"B\"]\n",
    "csv = pd.read_csv('colors.csv', names=index, header=None)\n"
   ]
  },
  {
   "cell_type": "code",
   "execution_count": 5,
   "id": "a4767da2",
   "metadata": {},
   "outputs": [],
   "source": [
    "# function to calculate minimum distance from all colors and get the most matching color\n",
    "def get_color_name(R, G, B):\n",
    "    minimum = 10000\n",
    "    for i in range(len(csv)):\n",
    "        d = abs(R - int(csv.loc[i, \"R\"])) + abs(G - int(csv.loc[i, \"G\"])) + abs(B - int(csv.loc[i, \"B\"]))\n",
    "        if d <= minimum:\n",
    "            minimum = d\n",
    "            cname = csv.loc[i, \"color_name\"]\n",
    "    return cname"
   ]
  },
  {
   "cell_type": "code",
   "execution_count": 6,
   "id": "c29b674b",
   "metadata": {},
   "outputs": [],
   "source": [
    "# function to get x,y coordinates of mouse double click\n",
    "def draw_function(event, x, y, flags, param):\n",
    "    if event == cv2.EVENT_LBUTTONDBLCLK:\n",
    "        global b, g, r, x_pos, y_pos, clicked\n",
    "        clicked = True\n",
    "        x_pos = x\n",
    "        y_pos = y\n",
    "        b, g, r = img[y, x]\n",
    "        b = int(b)\n",
    "        g = int(g)\n",
    "        r = int(r)"
   ]
  },
  {
   "cell_type": "code",
   "execution_count": 7,
   "id": "494ca70c",
   "metadata": {},
   "outputs": [],
   "source": [
    "cv2.namedWindow('image')\n",
    "cv2.setMouseCallback('image', draw_function)"
   ]
  },
  {
   "cell_type": "code",
   "execution_count": 8,
   "id": "6d5d8568",
   "metadata": {},
   "outputs": [
    {
     "ename": "SyntaxError",
     "evalue": "invalid syntax (2126871411.py, line 16)",
     "output_type": "error",
     "traceback": [
      "\u001b[1;36m  Input \u001b[1;32mIn [8]\u001b[1;36m\u001b[0m\n\u001b[1;33m    will display text in black colour\u001b[0m\n\u001b[1;37m         ^\u001b[0m\n\u001b[1;31mSyntaxError\u001b[0m\u001b[1;31m:\u001b[0m invalid syntax\n"
     ]
    },
    {
     "ename": "",
     "evalue": "",
     "output_type": "error",
     "traceback": [
      "\u001b[1;31mThe Kernel crashed while executing code in the the current cell or a previous cell. Please review the code in the cell(s) to identify a possible cause of the failure. Click <a href='https://aka.ms/vscodeJupyterKernelCrash'>here</a> for more info. View Jupyter <a href='command:jupyter.viewOutput'>log</a> for further details."
     ]
    }
   ],
   "source": [
    "while True:\n",
    "\n",
    "    cv2.imshow(\"image\", img)\n",
    "    if clicked:\n",
    "\n",
    "        # cv2.rectangle(image, start point, endpoint, color, thickness)-1 fills entire rectangle\n",
    "        cv2.rectangle(img, (20, 20), (750, 60), (b, g, r), -1)\n",
    "\n",
    "        # Creating text string to display( Color name and RGB values )\n",
    "        text = get_color_name(r, g, b) + ' R=' + str(r) + ' G=' + str(g) + ' B=' + str(b)\n",
    "\n",
    "        # cv2.putText(img,text,start,font(0-7),fontScale,color,thickness,lineType )\n",
    "        cv2.putText(img, text, (50, 50), 2, 0.8, (255, 255, 255), 2, cv2.LINE_AA)\n",
    "\n",
    "        # For very light colours we will display text in black colour\n",
    "        if r + g + b >= 600:\n",
    "            cv2.putText(img, text, (50, 50), 2, 0.8, (0, 0, 0), 2, cv2.LINE_AA)\n",
    "\n",
    "        clicked = False\n",
    "\n",
    "    # Break the loop when user hits 'esc' key\n",
    "    if cv2.waitKey(20) & 0xFF == 27:\n",
    "        break\n",
    "\n"
   ]
  },
  {
   "cell_type": "code",
   "execution_count": null,
   "id": "fa64324a",
   "metadata": {},
   "outputs": [
    {
     "ename": "NameError",
     "evalue": "name 'cv2' is not defined",
     "output_type": "error",
     "traceback": [
      "\u001b[1;31m---------------------------------------------------------------------------\u001b[0m",
      "\u001b[1;31mNameError\u001b[0m                                 Traceback (most recent call last)",
      "Input \u001b[1;32mIn [1]\u001b[0m, in \u001b[0;36m<cell line: 1>\u001b[1;34m()\u001b[0m\n\u001b[1;32m----> 1\u001b[0m \u001b[43mcv2\u001b[49m\u001b[38;5;241m.\u001b[39mdestroyAllWindows()\n",
      "\u001b[1;31mNameError\u001b[0m: name 'cv2' is not defined"
     ]
    }
   ],
   "source": [
    "cv2.destroyAllWindows()\n"
   ]
  },
  {
   "cell_type": "code",
   "execution_count": null,
   "id": "ea459dc6",
   "metadata": {},
   "outputs": [],
   "source": []
  }
 ],
 "metadata": {
  "kernelspec": {
   "display_name": "Python 3 (ipykernel)",
   "language": "python",
   "name": "python3"
  },
  "language_info": {
   "codemirror_mode": {
    "name": "ipython",
    "version": 3
   },
   "file_extension": ".py",
   "mimetype": "text/x-python",
   "name": "python",
   "nbconvert_exporter": "python",
   "pygments_lexer": "ipython3",
   "version": "3.9.12"
  }
 },
 "nbformat": 4,
 "nbformat_minor": 5
}
